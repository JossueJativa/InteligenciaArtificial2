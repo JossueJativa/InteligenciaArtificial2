{
 "cells": [
  {
   "cell_type": "markdown",
   "id": "851fa276",
   "metadata": {},
   "source": [
    "# Project Statement: Forecasting Air Pollution in Quito Using Time Series Analysis and Machine Learning"
   ]
  },
  {
   "cell_type": "markdown",
   "id": "0b2b9a06",
   "metadata": {},
   "source": [
    "#### Integrantes:\n",
    "- Enrique Merizalde\n",
    "- Juan Aristizabal\n",
    "- Domenica Escobar\n",
    "- Jossue Játiva\n",
    "\n",
    "#### Fecha de inicio: 12/04/2025"
   ]
  },
  {
   "cell_type": "code",
   "execution_count": 1,
   "id": "27e378b5",
   "metadata": {},
   "outputs": [
    {
     "name": "stdout",
     "output_type": "stream",
     "text": [
      "API endpoint: https://api.waqi.info/feed/here/?token=7ced66a2a9341855b39db04190d9999cf037470f\n"
     ]
    }
   ],
   "source": [
    "# Carga de token de acceso\n",
    "import os\n",
    "from dotenv import load_dotenv\n",
    "load_dotenv()\n",
    "\n",
    "# Cargar los environment variables\n",
    "TOKEN = os.getenv(\"TOKEN\")\n",
    "api_endpoint = f\"https://api.waqi.info/feed/here/?token={TOKEN}\"\n",
    "\n",
    "print(\"API endpoint:\", api_endpoint)"
   ]
  }
 ],
 "metadata": {
  "kernelspec": {
   "display_name": "env",
   "language": "python",
   "name": "python3"
  },
  "language_info": {
   "codemirror_mode": {
    "name": "ipython",
    "version": 3
   },
   "file_extension": ".py",
   "mimetype": "text/x-python",
   "name": "python",
   "nbconvert_exporter": "python",
   "pygments_lexer": "ipython3",
   "version": "3.12.2"
  }
 },
 "nbformat": 4,
 "nbformat_minor": 5
}
