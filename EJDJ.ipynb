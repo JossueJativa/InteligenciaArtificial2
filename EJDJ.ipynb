{
 "cells": [
  {
   "cell_type": "markdown",
   "id": "851fa276",
   "metadata": {},
   "source": [
    "# Project Statement: Forecasting Air Pollution in Quito Using Time Series Analysis and Machine Learning"
   ]
  },
  {
   "cell_type": "markdown",
   "id": "0b2b9a06",
   "metadata": {},
   "source": [
    "#### Integrantes:\n",
    "- Enrique Merizalde\n",
    "- Juan Aristizabal\n",
    "- Domenica Escobar\n",
    "- Jossue Játiva\n",
    "\n",
    "#### Fecha de inicio: 12/04/2025"
   ]
  },
  {
   "cell_type": "markdown",
   "id": "f06f2afe",
   "metadata": {},
   "source": [
    "## Instrucciones:\n",
    "Deliver a Jupyter Notebook (.ipynb), its exported HTML version (.html), and a comprehensive report (max 10 pages, PDF) as part of a group of up to 5 members. Name files with the first letters of group members’ names or surnames (e.g., ABCD.ipynb). Forecast PM2.5 levels in Quito using the provided dataset from 2004–2017, collected across 10 meteorological stations (e.g., Belisario, Carapungo). Submit all deliverables by Week 16 (March 12, 2025, adjusted for current date context), constituting 40% of the course grade (30% report, 10% code quality). Document each step with code, visualizations, and a detailed report following the analytics methodology outlined."
   ]
  },
  {
   "cell_type": "markdown",
   "id": "63172d68",
   "metadata": {},
   "source": [
    "## Descripción del proyecto:\n",
    "This project tasks you with forecasting PM2.5 air pollution levels in Quito over the next 5–10 years, leveraging time series analysis and machine learning on a rich dataset of daily meteorological and atmospheric variables from 2004 to 2017, sourced from 10 stations across the city. The dataset includes CO, NO2, O3, SO2, PM2.5, PM10, humidity, precipitation, temperature, wind velocity, and more, requiring extensive preprocessing due to its multi-source nature. You’ll clean and consolidate the data, engineer temporal and static features, and build hybrid models (e.g., ARIMA, LSTM, MLForecast) to predict PM2.5 trends for municipal planning (monthly, 5–10 years) and citizen use (hourly, 10 days). A Streamlit web app will showcase results, and the final report will connect findings to public health and policy implications, aligning with the course’s goal of simulating a data analytics consultancy (see SAITS, Prophet, MLForecast Example)."
   ]
  },
  {
   "cell_type": "markdown",
   "id": "796b549a",
   "metadata": {},
   "source": [
    "## Objetivos:\n",
    "* Objective 1: Preprocess and consolidate multi-station time series data into a unified dataset, handling missing values and engineering features to support accurate PM2.5 forecasting.\n",
    "* Objective 2: Develop and compare time series and ML models to forecast PM2.5 levels over multiple horizons (5–10 years and 10 days), delivering actionable insights via a Streamlit app."
   ]
  }
 ],
 "metadata": {
  "language_info": {
   "name": "python"
  }
 },
 "nbformat": 4,
 "nbformat_minor": 5
}
